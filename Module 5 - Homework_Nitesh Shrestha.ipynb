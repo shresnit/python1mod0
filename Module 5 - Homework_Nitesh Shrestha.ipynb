{
 "cells": [
  {
   "cell_type": "markdown",
   "metadata": {},
   "source": [
    "### Exercise 1. \n",
    "Create a dictionary named pairs with key value pairs of:\n",
    "    - 'hello' and 'fire', \n",
    "    - 3 and 'seven', \n",
    "    - 'strong' and 45. \n",
    "\n",
    "Then, print out the dictionary."
   ]
  },
  {
   "cell_type": "code",
   "execution_count": 2,
   "metadata": {},
   "outputs": [
    {
     "name": "stdout",
     "output_type": "stream",
     "text": [
      "{'hello': 'fire', 3: 'seven', 'strong': 45}\n"
     ]
    }
   ],
   "source": [
    "pairs = {}\n",
    "pairs[\"hello\"] = \"fire\"\n",
    "pairs[3] = \"seven\"\n",
    "pairs[\"strong\"] = 45\n",
    "\n",
    "print(pairs)"
   ]
  },
  {
   "cell_type": "markdown",
   "metadata": {},
   "source": [
    "### Exercise 2. \n",
    "Add 'welcome' and 56 pair into <b><i>pairs</i></b> dictionary from exercise 1. Then, print out the dictionary. "
   ]
  },
  {
   "cell_type": "code",
   "execution_count": 4,
   "metadata": {},
   "outputs": [
    {
     "name": "stdout",
     "output_type": "stream",
     "text": [
      "{'hello': 'fire', 3: 'seven', 'strong': 45, 'welcome': 56}\n"
     ]
    }
   ],
   "source": [
    "pairs[\"welcome\"] = 56\n",
    "\n",
    "print(pairs)"
   ]
  },
  {
   "cell_type": "markdown",
   "metadata": {},
   "source": [
    "### Exercise 3. \n",
    "Delete one item from <b><i>pairs</i></b> dictionary. Then, print deleted item and the dictionary."
   ]
  },
  {
   "cell_type": "code",
   "execution_count": 5,
   "metadata": {},
   "outputs": [
    {
     "name": "stdout",
     "output_type": "stream",
     "text": [
      "45\n",
      "{'hello': 'fire', 3: 'seven', 'welcome': 56}\n"
     ]
    }
   ],
   "source": [
    "item = pairs.pop('strong')\n",
    "print(item)\n",
    "print(pairs)"
   ]
  },
  {
   "cell_type": "markdown",
   "metadata": {},
   "source": [
    "### Exercise 4. \n",
    "Print the value of an item where key is 3 in <b><i>pairs</i></b> dicitonary"
   ]
  },
  {
   "cell_type": "code",
   "execution_count": 6,
   "metadata": {},
   "outputs": [
    {
     "name": "stdout",
     "output_type": "stream",
     "text": [
      "seven\n"
     ]
    }
   ],
   "source": [
    "print(pairs[3])"
   ]
  },
  {
   "cell_type": "code",
   "execution_count": 7,
   "metadata": {},
   "outputs": [
    {
     "name": "stdout",
     "output_type": "stream",
     "text": [
      "{'hello': 'fire', 3: 'seven', 'welcome': 56}\n"
     ]
    }
   ],
   "source": [
    "print(pairs)"
   ]
  },
  {
   "cell_type": "markdown",
   "metadata": {},
   "source": [
    "### Exercise 5. \n",
    "Try to find out if the key called 'hello' exist in <b><i>pairs</i></b> dictionary. Print 'key is found' message if the key exists otherwise print 'key is not there'."
   ]
  },
  {
   "cell_type": "code",
   "execution_count": 8,
   "metadata": {},
   "outputs": [
    {
     "name": "stdout",
     "output_type": "stream",
     "text": [
      "Key is found\n"
     ]
    }
   ],
   "source": [
    "if 'hello' in pairs:\n",
    "    pair = pairs['hello']\n",
    "    print(\"Key is found\")\n",
    "else:\n",
    "    print(\"key is not there\")"
   ]
  },
  {
   "cell_type": "markdown",
   "metadata": {},
   "source": [
    "### Exercise 6. \n",
    "\n",
    "For each item in a dictionary, create a for-loop that prints all the key-value pairs in the following format:\n",
    "\n",
    "        key -> value\n",
    "        \n",
    "To complete this exercise, first create your own dictionary of pet names. The key should be the type of pet (i.e. dog, lizard, etc) and the value should be the name of the specific pet. Your dictionary should have at least 5 items. "
   ]
  },
  {
   "cell_type": "code",
   "execution_count": 10,
   "metadata": {},
   "outputs": [
    {
     "name": "stdout",
     "output_type": "stream",
     "text": [
      "{'dog': 'pug', 'lizard': 'reptile', 'horse': 'wind', 'cat': 'mitch', 'squirrel': 'Ralph'}\n"
     ]
    }
   ],
   "source": [
    "pet = {}\n",
    "\n",
    "pet[\"dog\"] = \"pug\"\n",
    "pet[\"lizard\"] = \"reptile\"\n",
    "pet[\"horse\"] = \"wind\"\n",
    "pet[\"cat\"] = \"mitch\"\n",
    "pet[\"squirrel\"] = \"Ralph\"\n",
    "\n",
    "print(pet)"
   ]
  },
  {
   "cell_type": "code",
   "execution_count": 13,
   "metadata": {},
   "outputs": [
    {
     "name": "stdout",
     "output_type": "stream",
     "text": [
      "dog -> pug\n",
      "lizard -> reptile\n",
      "horse -> wind\n",
      "cat -> mitch\n",
      "squirrel -> Ralph\n"
     ]
    }
   ],
   "source": [
    "for x in pet:\n",
    "    print(f\"{x} -> {pet[x]}\")"
   ]
  },
  {
   "cell_type": "markdown",
   "metadata": {},
   "source": [
    "### Exercise 7. \n",
    "\n",
    "Convert the following lists into a single dictionary.\n",
    "\n",
    "keys = ['Ten', 'Twenty', 'Thirty']\n",
    "values = [10, 20, 30]"
   ]
  },
  {
   "cell_type": "code",
   "execution_count": 14,
   "metadata": {},
   "outputs": [
    {
     "name": "stdout",
     "output_type": "stream",
     "text": [
      "{'Ten': 10, 'Twenty': 20, 'Thirty': 30}\n"
     ]
    }
   ],
   "source": [
    "keys = ['Ten', 'Twenty', 'Thirty'] \n",
    "\n",
    "values = [10, 20, 30]\n",
    "\n",
    "\n",
    "## dict function create dictionary\n",
    "## zip functions puts two things together\n",
    "\n",
    "\n",
    "singledict = dict(zip(keys, values))  \n",
    "print(singledict)"
   ]
  },
  {
   "cell_type": "code",
   "execution_count": null,
   "metadata": {},
   "outputs": [],
   "source": []
  },
  {
   "cell_type": "code",
   "execution_count": null,
   "metadata": {},
   "outputs": [],
   "source": []
  },
  {
   "cell_type": "markdown",
   "metadata": {},
   "source": [
    "### Exercise 8. \n",
    "\n",
    "Convert the following list and dictionary into a single dictionary. The name of the patient should be the key and their health info should be the value. \n",
    "\n",
    "patient_name = [\"Lily\", \"Morgan\", \"Nicholas\"]\n",
    "\n",
    "patient_info = {\"5'6\" : \"178lbs\", \"5'9\" : \"134lbs\", \"6'1\" : \"218lbs\"}"
   ]
  },
  {
   "cell_type": "code",
   "execution_count": 18,
   "metadata": {},
   "outputs": [
    {
     "name": "stdout",
     "output_type": "stream",
     "text": [
      "{'Lily': (\"5'6\", '178lbs'), 'Morgan': (\"5'9\", '134lbs'), 'Nicholas': (\"6'1\", '218lbs')}\n"
     ]
    }
   ],
   "source": [
    "patient_name = [\"Lily\", \"Morgan\", \"Nicholas\"]\n",
    "\n",
    "patient_info = {\"5'6\" : \"178lbs\", \"5'9\" : \"134lbs\", \"6'1\" : \"218lbs\"}\n",
    "\n",
    "zipped = zip(patient_name, patient_info.items())\n",
    "print(dict(zipped))"
   ]
  },
  {
   "cell_type": "code",
   "execution_count": null,
   "metadata": {},
   "outputs": [],
   "source": []
  },
  {
   "cell_type": "code",
   "execution_count": null,
   "metadata": {},
   "outputs": [],
   "source": []
  }
 ],
 "metadata": {
  "kernelspec": {
   "display_name": "Python 3 (ipykernel)",
   "language": "python",
   "name": "python3"
  },
  "language_info": {
   "codemirror_mode": {
    "name": "ipython",
    "version": 3
   },
   "file_extension": ".py",
   "mimetype": "text/x-python",
   "name": "python",
   "nbconvert_exporter": "python",
   "pygments_lexer": "ipython3",
   "version": "3.9.7"
  }
 },
 "nbformat": 4,
 "nbformat_minor": 4
}
